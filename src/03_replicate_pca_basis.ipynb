{
 "cells": [
  {
   "cell_type": "markdown",
   "id": "83ad70f5",
   "metadata": {},
   "source": [
    "# 03. Public Repo Summary Charts\n",
    "This contains a few summary stats and basic charts to get a better understanding of repo.\n",
    "\n",
    "\n",
    "## Load and Format Data"
   ]
  },
  {
   "cell_type": "code",
   "execution_count": null,
   "id": "120c576e",
   "metadata": {},
   "outputs": [],
   "source": [
    "import numpy as np\n",
    "import pandas as pd\n",
    "from sklearn.decomposition import PCA\n",
    "\n",
    "from matplotlib import pyplot as plt\n",
    "import seaborn as sns\n",
    "sns.set()\n",
    "\n",
    "from settings import config\n",
    "import load_bases_data\n",
    "\n",
    "MANUAL_DATA_DIR = config(\"MANUAL_DATA_DIR\")\n",
    "OUTPUT_DIR = config(\"OUTPUT_DIR\")"
   ]
  },
  {
   "cell_type": "code",
   "execution_count": null,
   "id": "132cd388",
   "metadata": {},
   "outputs": [],
   "source": [
    "df = load_bases_data.load_combined_spreads_wide(data_dir=MANUAL_DATA_DIR)\n",
    "df = df.ffill(limit=5).dropna()\n",
    "# df.info()"
   ]
  },
  {
   "cell_type": "markdown",
   "id": "5d03e880",
   "metadata": {},
   "source": [
    "## Arbitrage Spreads"
   ]
  },
  {
   "cell_type": "code",
   "execution_count": null,
   "id": "fda49ba9",
   "metadata": {},
   "outputs": [],
   "source": [
    "# Initialize an empty Series with float type\n",
    "bar_df = pd.Series(dtype=float)\n",
    "\n",
    "bar_df[\"CDS-Bond\"] = -df[[\"CDS_Bond_HY\", \"CDS_Bond_IG\"]].mean().mean()\n",
    "bar_df[\"Equity-SF\"] = df[[\"Eq_SF_Dow\", \"Eq_SF_NDAQ\", \"Eq_SF_SPX\"]].mean().mean()\n",
    "bar_df[\"Box\"] = df[[\"Box_06m\", \"Box_12m\", \"Box_18m\"]].mean().mean()\n",
    "bar_df[\"Tips-Treas\"] = df[\n",
    "    [\"TIPS_Treasury_10Y\", \"TIPS_Treasury_02Y\", \"TIPS_Treasury_20Y\", \"TIPS_Treasury_05Y\"]\n",
    "].mean().mean()\n",
    "bar_df[\"CIP\"] = df[\n",
    "    [\"CIP_AUD\", \"CIP_CAD\", \"CIP_EUR\", \"CIP_GBP\", \"CIP_JPY\", \"CIP_NZD\", \"CIP_SEK\"]\n",
    "].mean().mean()\n",
    "bar_df[\"Treas-Swap\"] = -df[\n",
    "    [\n",
    "        \"Treasury_Swap_01Y\", \"Treasury_Swap_02Y\", \"Treasury_Swap_03Y\",\n",
    "        \"Treasury_Swap_05Y\", \"Treasury_Swap_10Y\", \"Treasury_Swap_20Y\",\n",
    "        \"Treasury_Swap_30Y\",\n",
    "    ]\n",
    "].mean().mean()\n",
    "bar_df[\"Treas-SF\"] = df[\n",
    "    [\"Treasury_SF_02Y\", \"Treasury_SF_05Y\", \"Treasury_SF_10Y\", \"Treasury_SF_30Y\"]\n",
    "].mean().mean()\n",
    "\n",
    "bar_df.index.name = \"Strategy\"\n",
    "bar_df.name = \"Average Arbitrage Spread (bps)\"\n",
    "\n",
    "print(bar_df)\n"
   ]
  },
  {
   "cell_type": "code",
   "execution_count": null,
   "id": "4bb05ae0",
   "metadata": {},
   "outputs": [],
   "source": [
    "plt.figure(figsize=(8, 8))\n",
    "ax = sns.barplot(data=bar_df.reset_index(), x=\"Strategy\", y=\"Average Arbitrage Spread (bps)\")\n",
    "ax.bar_label(ax.containers[0])\n",
    "plt.xticks(rotation=45, ha=\"right\")\n",
    "\n",
    "plt.tight_layout()\n",
    "\n",
    "path = OUTPUT_DIR / \"arbitrage_spreads_ave.png\"\n",
    "plt.savefig(path, dpi=300, bbox_inches=\"tight\")\n",
    "plt.show()"
   ]
  },
  {
   "cell_type": "markdown",
   "id": "b7e33090",
   "metadata": {},
   "source": [
    "## Correlation Matrix Heatmap"
   ]
  },
  {
   "cell_type": "code",
   "execution_count": null,
   "id": "b7b77df3",
   "metadata": {},
   "outputs": [],
   "source": [
    "plt.figure(figsize=(8, 7))\n",
    "\n",
    "sns.heatmap(\n",
    "    df.corr(),  # Compute correlation matrix\n",
    "    vmin=-1, vmax=1,  # Set min/max correlation range\n",
    "    cmap=\"vlag\",  # Use diverging colormap\n",
    "    xticklabels=True, yticklabels=True,  # Ensure labels are displayed\n",
    "    alpha=0.8,  # Adjust transparency\n",
    "    annot=True, fmt=\".2f\",  # Show correlation values inside heatmap\n",
    "    linewidths=0.5, linecolor=\"gray\",  # Add grid lines for clarity\n",
    ")\n",
    "\n",
    "plt.title(\"Correlation of Arbitrage Spreads\")\n",
    "plt.tight_layout()\n",
    "\n",
    "path = OUTPUT_DIR / \"arbitrage_spreads_corr.png\"\n",
    "plt.savefig(path, dpi=300, bbox_inches=\"tight\")\n",
    "\n",
    "plt.show()\n",
    "\n"
   ]
  },
  {
   "cell_type": "markdown",
   "id": "adb8638c",
   "metadata": {},
   "source": [
    "## Scree plots"
   ]
  },
  {
   "cell_type": "code",
   "execution_count": null,
   "id": "4bd26582",
   "metadata": {},
   "outputs": [],
   "source": [
    "balanced_df = df.dropna()\n",
    "shape = balanced_df.shape\n",
    "print(shape)\n",
    "print(f'Starting date in balanced panel: {balanced_df.index[0]}')\n",
    "print(f'Ending date in balanced panel: {balanced_df.index[-1]}')"
   ]
  },
  {
   "cell_type": "code",
   "execution_count": null,
   "id": "6efb0afb",
   "metadata": {},
   "outputs": [],
   "source": [
    "def calc_cumulative_explained_variance(balanced_df, multiply_100=True, include_zero=True):\n",
    "   \n",
    "    num_vars = balanced_df.shape[1]\n",
    "    pca = PCA(n_components=num_vars)\n",
    "    pca.fit(balanced_df)\n",
    "\n",
    "    scale = 100 if multiply_100 else 1\n",
    "    explained_variance = np.cumsum(pca.explained_variance_ratio_) * scale\n",
    "\n",
    "    if include_zero:\n",
    "        explained_variance = np.insert(explained_variance, 0, np.nan)\n",
    "\n",
    "    return explained_variance"
   ]
  },
  {
   "cell_type": "code",
   "execution_count": null,
   "id": "11975502",
   "metadata": {},
   "outputs": [],
   "source": [
    "plt.figure(figsize=(6, 6))\n",
    "\n",
    "cev = calc_cumulative_explained_variance(balanced_df)\n",
    "plt.plot(cev, marker='s', label='No Smoothing')\n",
    "cev5 = calc_cumulative_explained_variance(balanced_df.rolling(5).mean().dropna())\n",
    "plt.plot(cev5, marker='o', label='Five-Day Moving Average')\n",
    "\n",
    "cev30 = calc_cumulative_explained_variance(balanced_df.rolling(30).mean().dropna())\n",
    "plt.plot(cev30, marker='^', label='One-Month Moving Average')\n",
    "\n",
    "plt.axhline(y=90, color='r', alpha=0.5, linestyle=\"--\", label=\"90% Variance Explained\")\n",
    "plt.ylim((30, 101))\n",
    "\n",
    "plt.title('The Factor Structure of Arbitrage Spreads')\n",
    "plt.xlabel('Number of Principal Components')\n",
    "plt.ylabel('Cumulative Percent of Variance Explained')\n",
    "\n",
    "plt.legend()\n",
    "plt.tight_layout()\n",
    "\n",
    "path = OUTPUT_DIR / 'arbitrage_spreads_pca_cumvariance.png'\n",
    "\n",
    "plt.savefig(path, dpi=300, bbox_inches=\"tight\")\n",
    "\n",
    "plt.show()\n"
   ]
  },
  {
   "cell_type": "code",
   "execution_count": null,
   "id": "ede2f6b1",
   "metadata": {},
   "outputs": [],
   "source": []
  }
 ],
 "metadata": {
  "language_info": {
   "name": "python"
  }
 },
 "nbformat": 4,
 "nbformat_minor": 5
}
