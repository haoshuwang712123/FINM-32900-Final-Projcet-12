{
 "cells": [
  {
   "cell_type": "markdown",
   "metadata": {},
   "source": [
    "# Explore Basis Trade Data\n"
   ]
  },
  {
   "cell_type": "code",
   "execution_count": null,
   "metadata": {},
   "outputs": [],
   "source": [
    "import pandas as pd\n",
    "import polars as pl\n",
    "import seaborn as sns\n",
    "import matplotlib.pyplot as plt\n",
    "\n",
    "# Set seaborn style\n",
    "sns.set()\n",
    "\n",
    "# Import project configurations\n",
    "from settings import config\n",
    "import load_bases_data\n",
    "\n",
    "# Retrieve directory paths from the configuration\n",
    "DATA_DIR = config(\"DATA_DIR\")\n",
    "MANUAL_DATA_DIR = config(\"MANUAL_DATA_DIR\")\n"
   ]
  },
  {
   "cell_type": "code",
   "execution_count": null,
   "metadata": {},
   "outputs": [],
   "source": [
    "\n",
    "df = load_bases_data.load_combined_spreads_wide(data_dir=MANUAL_DATA_DIR)\n",
    "\n",
    "df = df.ffill(limit=5).dropna()\n",
    "\n",
    "print(df.info())"
   ]
  },
  {
   "cell_type": "code",
   "execution_count": null,
   "metadata": {},
   "outputs": [],
   "source": [
    "df.info()"
   ]
  },
  {
   "cell_type": "code",
   "execution_count": null,
   "metadata": {},
   "outputs": [],
   "source": [
    "df.tail()"
   ]
  },
  {
   "cell_type": "code",
   "execution_count": null,
   "metadata": {},
   "outputs": [],
   "source": [
    "# Reindex columns in sorted order and filter only columns that match the pattern \"Treasury_SF_*\"\n",
    "filtered_df = df.reindex(sorted(df.columns), axis=1).filter(regex=\"^Treasury_SF_\")\n",
    "\n",
    "# Display dataset information\n",
    "print(filtered_df.info())\n"
   ]
  },
  {
   "cell_type": "code",
   "execution_count": null,
   "metadata": {},
   "outputs": [],
   "source": [
    "# Reindex columns in sorted order and filter only columns that match the pattern \"Treasury_SF_*\"\n",
    "filtered_df = df.reindex(sorted(df.columns), axis=1).filter(regex=\"^Treasury_SF_\")\n",
    "\n",
    "# Plot the filtered data\n",
    "filtered_df.plot()\n",
    "\n",
    "# Set y-axis limits\n",
    "plt.ylim(-120, 200)\n",
    "\n",
    "# Show the plot\n",
    "plt.show()"
   ]
  },
  {
   "cell_type": "code",
   "execution_count": null,
   "metadata": {},
   "outputs": [],
   "source": [
    "filtered_df = (\n",
    "    df\n",
    "    .loc[\"2023\":, :] \n",
    "    .reindex(sorted(df.columns), axis=1) \n",
    "    .filter(regex=\"^Treasury_SF_\")\n",
    ")\n",
    "filtered_df.plot()\n",
    "plt.ylim(-300, 200)\n",
    "plt.show()"
   ]
  },
  {
   "cell_type": "code",
   "execution_count": null,
   "metadata": {},
   "outputs": [],
   "source": [
    "(\n",
    "    df\n",
    "    .loc[\"2024-07\":,:]\n",
    "    .reindex(sorted(df.columns), axis=1)\n",
    "    .filter(regex=(\"Treasury_SF_*\"))\n",
    "    .plot()\n",
    ")\n",
    "plt.ylim([-300,200])"
   ]
  },
  {
   "cell_type": "code",
   "execution_count": null,
   "metadata": {},
   "outputs": [],
   "source": [
    "df.reindex(sorted(df.columns), axis=1).filter(regex=(\"Treasury_SF_*\")).plot()\n",
    "plt.ylim([-300,200])"
   ]
  },
  {
   "cell_type": "code",
   "execution_count": null,
   "metadata": {},
   "outputs": [],
   "source": [
    "\n",
    "WINDOW = 30\n",
    "\n",
    "ax = (\n",
    "    df\n",
    "    .reindex(sorted(df.columns), axis=1)  # Sort columns\n",
    "    .filter(regex=\"^TIPS_\")  # Select columns matching \"TIPS_*\"\n",
    "    .rolling(WINDOW)\n",
    "    .mean()\n",
    "    .plot(figsize=(10, 6))  # Optional: Set figure size for better readability\n",
    ")\n",
    "\n",
    "box = ax.get_position()\n",
    "ax.set_position([box.x0, box.y0, box.width * 0.8, box.height])\n",
    "ax.legend(loc=\"center left\", bbox_to_anchor=(1, 0.5))\n",
    "\n",
    "plt.ylabel(f\"Spread (bps), {WINDOW}-day Rolling Mean\")\n",
    "plt.xlabel(\"Date\")\n",
    "plt.title(\"TIPS-Treasury Arbitrage Spread\")\n",
    "\n",
    "# Show the plot\n",
    "plt.show()\n"
   ]
  },
  {
   "cell_type": "code",
   "execution_count": null,
   "metadata": {},
   "outputs": [],
   "source": [
    "\n",
    "WINDOW = 30\n",
    "\n",
    "ax = (\n",
    "    df\n",
    "    .reindex(sorted(df.columns), axis=1)  # Sort columns alphabetically\n",
    "    .filter(regex=\"^Treasury_SF_\")  # Select columns starting with \"Treasury_SF_\"\n",
    "    .rolling(WINDOW)\n",
    "    .mean()\n",
    "    .plot(figsize=(10, 6))  # Set figure size for better readability\n",
    ")\n",
    "\n",
    "box = ax.get_position()\n",
    "ax.set_position([box.x0, box.y0, box.width * 0.8, box.height])\n",
    "ax.legend(loc=\"center left\", bbox_to_anchor=(1, 0.5))\n",
    "\n",
    "plt.ylabel(f\"Spread (bps), {WINDOW}-day Rolling Mean\")\n",
    "plt.xlabel(\"Date\")\n",
    "plt.title(\n",
    "    \"Treasury Cash Futures Arbitrage Spread\\n\"\n",
    "    \"Futures-implied risk-free rate minus OIS rate\"\n",
    ")\n",
    "\n",
    "plt.show()\n"
   ]
  },
  {
   "cell_type": "code",
   "execution_count": null,
   "metadata": {},
   "outputs": [],
   "source": [
    "\n",
    "WINDOW = 30\n",
    "ax = (\n",
    "    df\n",
    "    .reindex(sorted(df.columns), axis=1)  # Sort columns alphabetically\n",
    "    .filter(regex=\"^Treasury_Swap_\")  # Select columns starting with \"Treasury_Swap_\"\n",
    "    .rolling(WINDOW)\n",
    "    .mean()\n",
    "    .plot(figsize=(10, 6))  # Set figure size for better readability\n",
    ")\n",
    "\n",
    "box = ax.get_position()\n",
    "ax.set_position([box.x0, box.y0, box.width * 0.8, box.height])\n",
    "ax.legend(loc=\"center left\", bbox_to_anchor=(1, 0.5))\n",
    "\n",
    "plt.ylabel(f\"Spread (bps), {WINDOW}-day Rolling Mean\")\n",
    "plt.xlabel(\"Date\")\n",
    "plt.title(\"Treasury Swap Arbitrage Spread\\nDifference Between Treasury Yields and Swap Rates\")\n",
    "\n",
    "plt.show()\n"
   ]
  },
  {
   "cell_type": "code",
   "execution_count": null,
   "metadata": {},
   "outputs": [],
   "source": [
    "WINDOW = 30\n",
    "ax = (\n",
    "    df\n",
    "    .reindex(sorted(df.columns), axis=1)  # Sort columns alphabetically\n",
    "    .filter(regex=\"^CIP_\")  # Select columns starting with \"CIP_\"\n",
    "    .rolling(WINDOW)\n",
    "    .mean()\n",
    "    .plot(figsize=(10, 6))  # Set figure size for better readability\n",
    ")\n",
    "\n",
    "# Adjust legend position to the right of the plot\n",
    "box = ax.get_position()\n",
    "ax.set_position([box.x0, box.y0, box.width * 0.8, box.height])\n",
    "ax.legend(loc=\"center left\", bbox_to_anchor=(1, 0.5))\n",
    "\n",
    "# Set labels and title\n",
    "plt.ylabel(f\"Spread (bps), {WINDOW}-day Rolling Mean\")\n",
    "plt.xlabel(\"Date\")\n",
    "plt.title(\"CIP Arbitrage Spread\\nCovered Interest Parity Deviations Across Currencies\")\n",
    "\n",
    "plt.show()\n"
   ]
  },
  {
   "cell_type": "code",
   "execution_count": null,
   "metadata": {},
   "outputs": [],
   "source": [
    "df"
   ]
  },
  {
   "cell_type": "code",
   "execution_count": null,
   "metadata": {},
   "outputs": [],
   "source": []
  }
 ],
 "metadata": {
  "language_info": {
   "name": "python"
  }
 },
 "nbformat": 4,
 "nbformat_minor": 4
}
